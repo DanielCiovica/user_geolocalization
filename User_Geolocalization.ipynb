{
  "cells": [
    {
      "cell_type": "markdown",
      "metadata": {
        "id": "V6Y1b6ZXs_z_"
      },
      "source": [
        "# Pre-processing and model implementation"
      ]
    },
    {
      "cell_type": "code",
      "execution_count": 6,
      "metadata": {
        "id": "9XwaV8pMEfXS"
      },
      "outputs": [],
      "source": [
        "# !pip install \"nltk==3.4.5\""
      ]
    },
    {
      "cell_type": "code",
      "execution_count": 1,
      "metadata": {
        "colab": {
          "base_uri": "https://localhost:8080/"
        },
        "id": "_1f7taWMOnyv",
        "outputId": "3f280769-acbc-4e61-fa42-9af52ee8e705"
      },
      "outputs": [
        {
          "name": "stderr",
          "output_type": "stream",
          "text": [
            "[nltk_data] Downloading package stopwords to /root/nltk_data...\n",
            "[nltk_data]   Package stopwords is already up-to-date!\n"
          ]
        },
        {
          "data": {
            "text/plain": [
              "True"
            ]
          },
          "execution_count": 1,
          "metadata": {
            "tags": []
          },
          "output_type": "execute_result"
        }
      ],
      "source": [
        "import pandas as pd\n",
        "import numpy as np\n",
        "import re\n",
        "import nltk\n",
        "from nltk.tokenize import TweetTokenizer\n",
        "from nltk.corpus import stopwords\n",
        "from keras.preprocessing.sequence import pad_sequences\n",
        "nltk.download('stopwords')"
      ]
    },
    {
      "cell_type": "code",
      "execution_count": 9,
      "metadata": {
        "id": "dE65px7XC6fF"
      },
      "outputs": [],
      "source": [
        "def cleanText(text):\n",
        "    tweet_tokenizer = nltk.tokenize.TweetTokenizer() # I have used the TweetTokenizer as tokenizer for each sentence\n",
        "    stemmer = nltk.stem.cistem.Cistem() # german stemmer.\n",
        "    stop_words = set(stopwords.words('german')) # the most common words in german\n",
        "    new_text = [w.lower() for w in tweet_tokenizer.tokenize(text)] # tokenize each sentence and lower all the words\n",
        "    new_text = [w for w in new_text if bool(re.search(r'\\d', w)) == False] #remove any word containg a number\n",
        "    new_text = [re.sub(r'[^\\w\\s]','',w) for w in new_text] # remove punctuation\n",
        "    new_text = [w for w in new_text if w not in stop_words] # remove most common german stop words\n",
        "    new_text = [stemmer.stem(w) for w in new_text if len(w)>2] # apply stemming on words that have at least 3 letters\n",
        "    new_text = np.asarray(new_text)\n",
        "    return new_text\n",
        "\n",
        "def createVocabulary(df):\n",
        "  \n",
        "  vocabulary = {}\n",
        "  frequency_word = {}\n",
        "  label_word = 0\n",
        "  # create the frequency of each word in the entire documents\n",
        "  for i in range(len(df.index)):\n",
        "    if i % 5000 == 0 or i == len(df.index)-1:\n",
        "      print(\"Creating frequency dictionary from line {} out of {}\".format(i, len(df.index)))\n",
        "    for word in df.iloc[i]['text_cleaned']:\n",
        "      if word not in frequency_word:\n",
        "        frequency_word[word] = 0\n",
        "      else:\n",
        "        frequency_word[word] += 1\n",
        "\n",
        "  # select only the words that have a frequency higher than 1 and thus create the vocabulary\n",
        "  copy_frequency_word = {k:v for k,v in frequency_word.items() if v>1}\n",
        "\n",
        "  # create the vocabulary after filtering the least used words\n",
        "  for i in range(len(df.index)):\n",
        "    if i % 5000 == 0 or i == len(df.index)-1:\n",
        "      print(\"Creating vocabulary from line {} out of {}\".format(i, len(df.index)))\n",
        "    for word in df.iloc[i]['text_cleaned']:\n",
        "      if word in copy_frequency_word and word not in vocabulary:\n",
        "        vocabulary[word] = label_word\n",
        "        label_word += 1\n",
        "  return vocabulary\n",
        "\n",
        "\n",
        "def getFeatures(df, vocabulary):\n",
        "  # create the one hot encoded matrix\n",
        "  features = []\n",
        "  for i in range(len(df.index)):\n",
        "    if i % 5000 == 0 or i == len(df.index)-1:\n",
        "      print(\"Creating features from line {} out of {}\".format(i, len(df.index)))\n",
        "    feature_row = np.zeros(len(vocabulary))\n",
        "    for word in df.iloc[i]['text_cleaned']:\n",
        "      if word in vocabulary:\n",
        "        feature_row[vocabulary[word]] += 1\n",
        "    features.append(feature_row)\n",
        "  \n",
        "  return features\n",
        "\n",
        "def processData(df, train, vocabulary=None):\n",
        "  # call all the functions that are required to pre-process the datasets\n",
        "  print(\"\\n\\n========Cleaning Text=======\\n\\n\")\n",
        "  df['text_cleaned'] = df['text'].apply(cleanText)\n",
        "  print(df.head())\n",
        "  if train == 'yes':\n",
        "    print(\"\\n\\n========Creating Vocabulary=======\\n\\n\")\n",
        "    vocabulary = createVocabulary(df)\n",
        "  print(\"\\n\\n========Creating Features=======\\n\\n\")\n",
        "  df = getFeatures(df, vocabulary)\n",
        "\n",
        "  return df, vocabulary\n",
        "\n",
        "# I have also tried to use the CountVectorizer and TfidfVectorizer from sklearn, \n",
        "# but I eneded up writing the functions manually as they resulted in a better loss. \n",
        "\n",
        "# def get_features(data_train, data_validation, data_test):\n",
        "\n",
        "#   vectorizer = CountVectorizer(\n",
        "#       strip_accents = 'ascii',\n",
        "#       min_df = 10,\n",
        "#       lowercase = False,\n",
        "#   ) \n",
        "#   # create the CountVectorizer instance with the above parameters. The words do not need to be lowered again, keep the words that have a minimum of 10 apparitions among all documents, strip_accents = 'ascii' used for character normalization\n",
        "#   vectorizer.fit(data_train)  # fit the vectorizer only on the training set\n",
        "#   features_names = vectorizer.get_feature_names() # get the features name for later examination\n",
        "#   vocab = vectorizer.vocabulary_ # get the created vocabulary\n",
        "\n",
        "#   X_train = vectorizer.transform(data_train) # transform the vectorizer for each data set\n",
        "#   X_validation = vectorizer.transform(data_validation)\n",
        "#   X_test = vectorizer.transform(data_test)\n",
        "\n",
        "#   # transform the elements in arrays to be easily manipulated\n",
        "\n",
        "#   X_train = X_train.toarray() \n",
        "#   X_validation = X_validation.toarray()\n",
        "#   X_test = X_test.toarray()\n",
        "\n",
        "#   return X_train, X_validation, X_test, features_names, vocab\n",
        "\n",
        "# I have tried to use embedded words, but they were not successful in obtaining \n",
        "# a loss better than the ones provided by creating one hot encoded features. \n",
        "\n",
        "# def get_features_embedding(df, vocabulary):\n",
        "    # max_length = 84 # the longest sentance has 84 words\n",
        "    # aux_df = []\n",
        "    # for i in range(len(df.index)):\n",
        "    #   if i % 5000 == 0 or i == len(df.index)-1:\n",
        "    #     print(\"Creating features from line {} out of {}\".format(i, len(df.index)))\n",
        "    #   aux_line = []\n",
        "    #   for word in df.iloc[i]['text_cleaned']:\n",
        "    #     if word in vocabulary:\n",
        "    #       aux_line.append(vocabulary[word])\n",
        "    #   aux_df.append(aux_line)\n",
        "\n",
        "    # features = pad_sequences(aux_df, maxlen=max_length, padding='post')\n"
      ]
    },
    {
      "cell_type": "code",
      "execution_count": 10,
      "metadata": {
        "id": "XIN8dhghOyz-"
      },
      "outputs": [],
      "source": [
        "df_train = pd.read_csv(r'/content/drive/MyDrive/PML Project/training.txt', header=None)\n",
        "df_val = pd.read_csv(r'/content/drive/MyDrive/PML Project/validation.txt', header=None)\n",
        "df_test = pd.read_csv(r'/content/drive/MyDrive/PML Project/test.txt', header=None)\n",
        "\n",
        "headers = [\"id\", \"lat\", \"long\", \"text\"]\n",
        "df_train.columns = headers\n",
        "df_val.columns = headers\n",
        "df_test.columns = ['id', 'text']"
      ]
    },
    {
      "cell_type": "code",
      "execution_count": 11,
      "metadata": {
        "colab": {
          "base_uri": "https://localhost:8080/"
        },
        "id": "tLg5jjLRJGyF",
        "outputId": "a401c3af-4548-4b9b-81cb-64af3bc84aec"
      },
      "outputs": [
        {
          "name": "stdout",
          "output_type": "stream",
          "text": [
            "\n",
            "\n",
            "==========TRAIN==========\n",
            "\n",
            "\n",
            "\n",
            "\n",
            "========Cleaning Text=======\n",
            "\n",
            "\n",
            "       id  ...                                       text_cleaned\n",
            "0  119165  ...  [seit, vas, kaputt, gang, bring, jahr, ungluck...\n",
            "1  100377  ...  [haha, isch, amig, richtig, langwilig, bisch, ...\n",
            "2  109550  ...  [isch, hiltl, dachterrass, amn, samstig, bsuec...\n",
            "3  111440  ...  [fuhl, weimar, republik, verfassung, bess, aus...\n",
            "4  116670  ...  [eui, liebsch, lunchidee, mitneh, grill, steak...\n",
            "\n",
            "[5 rows x 5 columns]\n",
            "\n",
            "\n",
            "========Creating Vocabulary=======\n",
            "\n",
            "\n",
            "Creating frequency dictionary from line 0 out of 22583\n",
            "Creating frequency dictionary from line 5000 out of 22583\n",
            "Creating frequency dictionary from line 10000 out of 22583\n",
            "Creating frequency dictionary from line 15000 out of 22583\n",
            "Creating frequency dictionary from line 20000 out of 22583\n",
            "Creating frequency dictionary from line 22582 out of 22583\n",
            "Creating vocabulary from line 0 out of 22583\n",
            "Creating vocabulary from line 5000 out of 22583\n",
            "Creating vocabulary from line 10000 out of 22583\n",
            "Creating vocabulary from line 15000 out of 22583\n",
            "Creating vocabulary from line 20000 out of 22583\n",
            "Creating vocabulary from line 22582 out of 22583\n",
            "\n",
            "\n",
            "========Creating Features=======\n",
            "\n",
            "\n",
            "Creating features from line 0 out of 22583\n",
            "Creating features from line 5000 out of 22583\n",
            "Creating features from line 10000 out of 22583\n",
            "Creating features from line 15000 out of 22583\n",
            "Creating features from line 20000 out of 22583\n",
            "Creating features from line 22582 out of 22583\n",
            "\n",
            "\n",
            "==========VAL==========\n",
            "\n",
            "\n",
            "\n",
            "\n",
            "========Cleaning Text=======\n",
            "\n",
            "\n",
            "       id  ...                                       text_cleaned\n",
            "0  203001  ...  [mer, aner, party, kolleg, neu, bro, find, hat...\n",
            "1  200313  ...  [heii, gueta, wuchestar, gha, wunderbar, jaa, ...\n",
            "2  201966  ...  [wieso, ned, werd, eim, emel, ned, langwiilig,...\n",
            "3  201123  ...  [hani, well, zueri, lausann, hett, durchsag, g...\n",
            "4  200374  ...  [isch, applikatio, plagier, word, diskussionsf...\n",
            "\n",
            "[5 rows x 5 columns]\n",
            "\n",
            "\n",
            "========Creating Features=======\n",
            "\n",
            "\n",
            "Creating features from line 0 out of 3044\n",
            "Creating features from line 3043 out of 3044\n",
            "\n",
            "\n",
            "==========TEST==========\n",
            "\n",
            "\n",
            "\n",
            "\n",
            "========Cleaning Text=======\n",
            "\n",
            "\n",
            "       id  ...                                       text_cleaned\n",
            "0  300121  ...  [min, vibi, funktionk, nod, hesch, dbatterie, ...\n",
            "1  302441  ...  [langsam, soti, scho, schlaf, hesch, scho, mal...\n",
            "2  300266  ...  [hez, hie, lut, ganz, tag, ine, biudschirm, mu...\n",
            "3  300911  ...  [neui, wohnig, neua, job, eigeni, kuchi, mama,...\n",
            "4  302681  ...  [schon, wies, grad, chu, cho, hagl, nid, mugle...\n",
            "\n",
            "[5 rows x 3 columns]\n",
            "\n",
            "\n",
            "========Creating Features=======\n",
            "\n",
            "\n",
            "Creating features from line 0 out of 3138\n",
            "Creating features from line 3137 out of 3138\n"
          ]
        }
      ],
      "source": [
        "print(\"\\n\\n==========TRAIN==========\\n\\n\")\n",
        "X_train, vocabulary = processData(df_train, train='yes')\n",
        "print(\"\\n\\n==========VAL==========\\n\\n\")\n",
        "X_val,_ = processData(df_val, train='no', vocabulary=vocabulary)\n",
        "print(\"\\n\\n==========TEST==========\\n\\n\")\n",
        "X_test,_ = processData(df_test, train='no', vocabulary=vocabulary)"
      ]
    },
    {
      "cell_type": "code",
      "execution_count": 12,
      "metadata": {
        "id": "UIesEaIIfi81"
      },
      "outputs": [],
      "source": [
        "# from sklearn.preprocessing import Normalizer\n",
        "# scaler = Normalizer(norm='l1') \n",
        "# scaler.fit(X_train)\n",
        "# X_train = scaler.transform(X_train) \n",
        "# X_val = scaler.transform(X_val)\n",
        "# X_test = scaler.transform(X_test)"
      ]
    },
    {
      "cell_type": "code",
      "execution_count": 13,
      "metadata": {
        "colab": {
          "base_uri": "https://localhost:8080/"
        },
        "id": "JY8MUlRgHwmI",
        "outputId": "37357ff7-0118-49f9-f67f-4b14247c1575"
      },
      "outputs": [
        {
          "name": "stdout",
          "output_type": "stream",
          "text": [
            "(22583, 18759)\n",
            "(3044, 18759)\n",
            "(3138, 18759)\n",
            "18759\n",
            "22583\n",
            "18759\n"
          ]
        }
      ],
      "source": [
        "# transform the train, validation and test sets into np arrays\n",
        "X_train = np.asarray(X_train)\n",
        "X_val = np.asarray(X_val)\n",
        "X_test = np.asarray(X_test)\n",
        "y_train = df_train[['lat', 'long']].to_numpy()\n",
        "y_val = df_val[['lat', 'long']].to_numpy()\n",
        "\n",
        "# store the vocabulary size, the number of documents and their length\n",
        "vocab_size = len(vocabulary)\n",
        "documents_number = len(X_train)\n",
        "documents_length = X_train.shape[1]\n",
        "\n",
        "print(X_train.shape)\n",
        "print(X_val.shape)\n",
        "print(X_test.shape)\n",
        "print(vocab_size)\n",
        "print(documents_number)\n",
        "print(documents_length)"
      ]
    },
    {
      "cell_type": "code",
      "execution_count": 66,
      "metadata": {
        "id": "L6EvkvvPBKaA"
      },
      "outputs": [],
      "source": [
        "import tensorflow as tf\n",
        "\n",
        "model = tf.keras.models.Sequential([\n",
        "  tf.keras.layers.Dense(256,input_shape = (documents_length,), activation='relu'), # Dense layer with 256 neurons\n",
        "  tf.keras.layers.Dense(256, activation='relu'), # Dense layer with 256 neurons\n",
        "  tf.keras.layers.Dense(128, activation='relu'), # Dense layer with 128 neurons\n",
        "  tf.keras.layers.Dense(64, activation='relu'), # Dense layer with 64 neurons\n",
        "  tf.keras.layers.Dense(2, activation='relu') # Dense layer with 2 neurons\n",
        "])"
      ]
    },
    {
      "cell_type": "code",
      "execution_count": null,
      "metadata": {
        "id": "skuuA_B8HeUa"
      },
      "outputs": [],
      "source": [
        "# The model used for embedded words, that did not perform better than the above one\n",
        "# model = tf.keras.models.Sequential([\n",
        "#   tf.keras.layers.Embedding(input_dim=vocab_size, output_dim=64, input_length=documents_length), # embedded layer of input size equal to the length of the vocabulary\n",
        "#   tf.keras.layers.Bidirectional(tf.keras.layers.LSTM(50)), # trains two LSTM models: the first one as it is (forward) and the second one reversed (backwards)   \n",
        "#   tf.keras.layers.Dense(2, activation='relu') # output layer\n",
        "# ])"
      ]
    },
    {
      "cell_type": "code",
      "execution_count": 67,
      "metadata": {
        "id": "CVVTiQMsDRUo"
      },
      "outputs": [],
      "source": [
        "from tensorflow.keras.optimizers import Adam\n",
        "\n",
        "optimizer = Adam(learning_rate=0.003) # optimizer + learning rate\n",
        "model.compile(\n",
        "    optimizer=optimizer, \n",
        "    loss = 'mean_absolute_error', # loss + metric\n",
        "    metrics = ['mean_squared_error']\n",
        "              )"
      ]
    },
    {
      "cell_type": "code",
      "execution_count": 68,
      "metadata": {
        "id": "Z3NpNh2lEf0i"
      },
      "outputs": [],
      "source": [
        "import os\n",
        "checkpoint_dir = './checkpoints'\n",
        "if not os.path.exists(checkpoint_dir):\n",
        "    os.makedirs(checkpoint_dir) \n",
        "checkpoint_callback = tf.keras.callbacks.ModelCheckpoint(\n",
        "    filepath = checkpoint_dir + '/model.{epoch:05d}.hdf5'\n",
        ")\n",
        "tensorboard_callback = tf.keras.callbacks.TensorBoard(\n",
        "    log_dir = os.path.join('logs'),  \n",
        "    write_graph = True, \n",
        "    update_freq = 'epoch'\n",
        ")"
      ]
    },
    {
      "cell_type": "code",
      "execution_count": 69,
      "metadata": {
        "colab": {
          "base_uri": "https://localhost:8080/"
        },
        "id": "5pgDZN_bE7Ow",
        "outputId": "a535b43b-22a0-4b83-8146-9e1420b2fc1f"
      },
      "outputs": [
        {
          "name": "stdout",
          "output_type": "stream",
          "text": [
            "Epoch 1/10\n",
            "706/706 [==============================] - 24s 33ms/step - loss: 8.2894 - mean_squared_error: 230.6106 - val_loss: 0.7146 - val_mean_squared_error: 0.8833\n",
            "Epoch 2/10\n",
            "706/706 [==============================] - 23s 33ms/step - loss: 0.7783 - mean_squared_error: 1.0656 - val_loss: 0.6473 - val_mean_squared_error: 0.7742\n",
            "Epoch 3/10\n",
            "706/706 [==============================] - 23s 33ms/step - loss: 0.5772 - mean_squared_error: 0.6444 - val_loss: 0.6409 - val_mean_squared_error: 0.7447\n",
            "Epoch 4/10\n",
            "706/706 [==============================] - 23s 33ms/step - loss: 0.4940 - mean_squared_error: 0.4647 - val_loss: 0.6337 - val_mean_squared_error: 0.7662\n",
            "Epoch 5/10\n",
            "706/706 [==============================] - 23s 33ms/step - loss: 0.4423 - mean_squared_error: 0.3903 - val_loss: 0.6406 - val_mean_squared_error: 0.7734\n",
            "Epoch 6/10\n",
            "706/706 [==============================] - 23s 33ms/step - loss: 0.4119 - mean_squared_error: 0.3346 - val_loss: 0.6425 - val_mean_squared_error: 0.7647\n",
            "Epoch 7/10\n",
            "706/706 [==============================] - 24s 34ms/step - loss: 0.3911 - mean_squared_error: 0.2974 - val_loss: 0.6231 - val_mean_squared_error: 0.7403\n",
            "Epoch 8/10\n",
            "706/706 [==============================] - 24s 34ms/step - loss: 0.3659 - mean_squared_error: 0.2700 - val_loss: 0.5974 - val_mean_squared_error: 0.7085\n",
            "Epoch 9/10\n",
            "706/706 [==============================] - 24s 34ms/step - loss: 0.3562 - mean_squared_error: 0.2662 - val_loss: 0.6189 - val_mean_squared_error: 0.7309\n",
            "Epoch 10/10\n",
            "706/706 [==============================] - 23s 33ms/step - loss: 0.3424 - mean_squared_error: 0.2432 - val_loss: 0.6097 - val_mean_squared_error: 0.7194\n"
          ]
        }
      ],
      "source": [
        "# best score on the validation set was obtained using 50 epochs and a batch_size of 32\n",
        "history = model.fit(X_train, y_train,\n",
        "    epochs = 10, batch_size = 32, initial_epoch = 0, verbose=1,\n",
        "    callbacks=[checkpoint_callback, tensorboard_callback],\n",
        "    validation_data=(X_val, y_val))"
      ]
    },
    {
      "cell_type": "code",
      "execution_count": 70,
      "metadata": {
        "colab": {
          "base_uri": "https://localhost:8080/"
        },
        "id": "0JN6PRqn-RTQ",
        "outputId": "65a95eb0-6fd5-43f1-ecef-f15c300bde20"
      },
      "outputs": [
        {
          "name": "stdout",
          "output_type": "stream",
          "text": [
            "Model: \"sequential_8\"\n",
            "_________________________________________________________________\n",
            "Layer (type)                 Output Shape              Param #   \n",
            "=================================================================\n",
            "dense_40 (Dense)             (None, 256)               4802560   \n",
            "_________________________________________________________________\n",
            "dense_41 (Dense)             (None, 256)               65792     \n",
            "_________________________________________________________________\n",
            "dense_42 (Dense)             (None, 128)               32896     \n",
            "_________________________________________________________________\n",
            "dense_43 (Dense)             (None, 64)                8256      \n",
            "_________________________________________________________________\n",
            "dense_44 (Dense)             (None, 2)                 130       \n",
            "=================================================================\n",
            "Total params: 4,909,634\n",
            "Trainable params: 4,909,634\n",
            "Non-trainable params: 0\n",
            "_________________________________________________________________\n",
            "None\n"
          ]
        }
      ],
      "source": [
        "print(model.summary())"
      ]
    },
    {
      "cell_type": "code",
      "execution_count": 71,
      "metadata": {
        "colab": {
          "base_uri": "https://localhost:8080/",
          "height": 573
        },
        "id": "HW9ZI5o95RH2",
        "outputId": "43379833-fb21-4e31-98ab-4d4ddfea4006"
      },
      "outputs": [
        {
          "data": {
            "image/png": "[encoded data removed]",
            "text/plain": [
              "<Figure size 432x288 with 1 Axes>"
            ]
          },
          "metadata": {
            "needs_background": "light",
            "tags": []
          },
          "output_type": "display_data"
        },
        {
          "data": {
            "image/png": "[encoded data removed]",
            "text/plain": [
              "<Figure size 432x288 with 1 Axes>"
            ]
          },
          "metadata": {
            "needs_background": "light",
            "tags": []
          },
          "output_type": "display_data"
        }
      ],
      "source": [
        "# plot the history of the model to observe it evolution for each epoch\n",
        "import matplotlib.pyplot as plt\n",
        "\n",
        "plt.plot(history.history['mean_squared_error'])\n",
        "plt.plot(history.history['val_mean_squared_error'])\n",
        "\n",
        "plt.title('mean squared error')\n",
        "plt.ylabel('mae')\n",
        "plt.xlabel('epoch')\n",
        "plt.legend(['train','val'], loc='upper left')\n",
        "plt.show()\n",
        "\n",
        "plt.plot(history.history['loss'])\n",
        "plt.plot(history.history['val_loss'])\n",
        "\n",
        "plt.title('mean absolute error')\n",
        "plt.ylabel('mse')\n",
        "plt.xlabel('epoch')\n",
        "plt.legend(['train','val'], loc='upper left')\n",
        "plt.show()"
      ]
    },
    {
      "cell_type": "code",
      "execution_count": 72,
      "metadata": {
        "colab": {
          "base_uri": "https://localhost:8080/"
        },
        "id": "XpmtZEAhKirQ",
        "outputId": "ddb47f4a-4247-4f48-bb9b-638aa05992ef"
      },
      "outputs": [
        {
          "name": "stdout",
          "output_type": "stream",
          "text": [
            "the output shape is  (None, 2)\n",
            "the input shape is  (None, 18759)\n",
            "the length of the weights is 10\n"
          ]
        }
      ],
      "source": [
        "print('the output shape is ', model.output_shape)\n",
        "print('the input shape is ', model.input_shape)\n",
        "print('the length of the weights is', len(model.weights))"
      ]
    },
    {
      "cell_type": "code",
      "execution_count": 73,
      "metadata": {
        "colab": {
          "base_uri": "https://localhost:8080/"
        },
        "id": "59YFNCBvKqEB",
        "outputId": "e1dc4da3-56fb-467e-9eb4-261315ba996f"
      },
      "outputs": [
        {
          "name": "stdout",
          "output_type": "stream",
          "text": [
            "96/96 [==============================] - 1s 10ms/step - loss: 0.6097 - mean_squared_error: 0.7194\n",
            "test loss mean_squared_error 0.6097396016120911\n",
            "test metrics mean_absolute_error 0.7193634510040283\n"
          ]
        }
      ],
      "source": [
        "test_loss, test_metrics = model.evaluate(X_val, y_val, verbose=1) \n",
        "print('test loss mean_squared_error', test_loss)\n",
        "print('test metrics mean_absolute_error', test_metrics)"
      ]
    },
    {
      "cell_type": "code",
      "execution_count": null,
      "metadata": {
        "colab": {
          "base_uri": "https://localhost:8080/"
        },
        "id": "lFbLX_CKbbq3",
        "outputId": "41110c7e-c98d-4c63-e41a-1aee419ee7e3"
      },
      "outputs": [
        {
          "name": "stdout",
          "output_type": "stream",
          "text": [
            "99/99 [==============================] - 1s 8ms/step\n",
            "          id        lat       long\n",
            "0     300121  52.193459  10.687372\n",
            "1     302441  52.206017   9.862431\n",
            "2     300266  50.838085   7.994945\n",
            "3     300911  50.491058  11.165400\n",
            "4     302681  50.281837   7.967279\n",
            "...      ...        ...        ...\n",
            "3133  300151  51.511055  10.115791\n",
            "3134  300302  51.811520   9.305486\n",
            "3135  301963  51.238541   9.814710\n",
            "3136  302180  51.002365   7.924537\n",
            "3137  301697  51.224594  10.496094\n",
            "\n",
            "[3138 rows x 3 columns]\n"
          ]
        }
      ],
      "source": [
        "# predict the target for the test set and format it according to the given standards\n",
        "y_test_predicted = model.predict(X_test, verbose = 1)\n",
        "y_test_predicted = pd.DataFrame(y_test_predicted)\n",
        "id_test = df_test['id']\n",
        "y_test_output = pd.concat([y_test_predicted, id_test], axis=1)\n",
        "y_test_output.columns = ['lat', 'long', 'id']\n",
        "y_test_output = y_test_output[['id', 'lat', 'long']]\n",
        "print(y_test_output)\n",
        "y_test_output.to_csv(r'/content/drive/MyDrive/PML Project/output.txt', index=None)"
      ]
    },
    {
      "cell_type": "code",
      "execution_count": null,
      "metadata": {
        "id": "X-g4WQUobkKe"
      },
      "outputs": [],
      "source": []
    }
  ],
  "metadata": {
    "colab": {
      "collapsed_sections": [],
      "name": "Ciovica_Emil_Daniel.ipynb",
      "provenance": []
    },
    "kernelspec": {
      "display_name": "Python 3",
      "name": "python3"
    }
  },
  "nbformat": 4,
  "nbformat_minor": 2
}
